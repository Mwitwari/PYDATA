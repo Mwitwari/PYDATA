{
 "cells": [
  {
   "cell_type": "markdown",
   "id": "e0ad8bf6",
   "metadata": {},
   "source": [
    "# Intro to numpy\n"
   ]
  },
  {
   "cell_type": "code",
   "execution_count": 82,
   "id": "69ded627",
   "metadata": {},
   "outputs": [],
   "source": [
    "# Dimensions in arrays\n",
    "# 0D array-scalar- one numerical value\n",
    "# 1D array-vector- list of elements\n",
    "# 2D array-list of elements are the elements\n",
    "# 3D array- 2D arrays are the elements"
   ]
  },
  {
   "cell_type": "code",
   "execution_count": 83,
   "id": "f8a4e9c2",
   "metadata": {},
   "outputs": [
    {
     "data": {
      "text/plain": [
       "array([1, 2, 3, 4, 5])"
      ]
     },
     "execution_count": 83,
     "metadata": {},
     "output_type": "execute_result"
    }
   ],
   "source": [
    "# arrays from lists or tuples\n",
    "# np.array()\n",
    "\n",
    "import numpy as np\n",
    "\n",
    "my_list=[1,2,3,4,5]\n",
    "arr1=np.array(my_list)\n",
    "arr1"
   ]
  },
  {
   "cell_type": "code",
   "execution_count": 84,
   "id": "975ecd60",
   "metadata": {},
   "outputs": [
    {
     "data": {
      "text/plain": [
       "array([[1, 2, 3],\n",
       "       [4, 5, 6]])"
      ]
     },
     "execution_count": 84,
     "metadata": {},
     "output_type": "execute_result"
    }
   ],
   "source": [
    "my_list=[[1,2,3],[4,5,6]]\n",
    "arr2=np.array(my_list)\n",
    "arr2"
   ]
  },
  {
   "cell_type": "code",
   "execution_count": 85,
   "id": "7b071ca1",
   "metadata": {},
   "outputs": [
    {
     "data": {
      "text/plain": [
       "array([[0.90652144, 0.65414694, 0.49185588, 0.24877912, 0.96435884],\n",
       "       [0.35147492, 0.30322857, 0.16234533, 0.70061095, 0.7245148 ],\n",
       "       [0.69233135, 0.80769513, 0.02640388, 0.32331293, 0.50898074],\n",
       "       [0.5410382 , 0.63058654, 0.57002769, 0.14503992, 0.20672668],\n",
       "       [0.63788891, 0.19618495, 0.41342043, 0.66864664, 0.41715447]])"
      ]
     },
     "execution_count": 85,
     "metadata": {},
     "output_type": "execute_result"
    }
   ],
   "source": [
    "# array from random values\n",
    "\n",
    "arr3=np.random.rand(5,5)\n",
    "arr3"
   ]
  },
  {
   "cell_type": "code",
   "execution_count": 86,
   "id": "1a8005a9",
   "metadata": {},
   "outputs": [
    {
     "name": "stdout",
     "output_type": "stream",
     "text": [
      "[[ 6 47  9 79 62]\n",
      " [21  3 79 68 37]\n",
      " [83 17  0 75 10]\n",
      " [ 1 19 32 17 39]\n",
      " [54 31 80 81 95]]\n"
     ]
    }
   ],
   "source": [
    "arr4=np.random.randint(100, size=(5,5))\n",
    "print(arr4)"
   ]
  },
  {
   "cell_type": "code",
   "execution_count": 87,
   "id": "b56a24ad",
   "metadata": {},
   "outputs": [
    {
     "name": "stdout",
     "output_type": "stream",
     "text": [
      "[[[9 9 9 9]\n",
      "  [9 9 9 9]\n",
      "  [9 9 9 9]]\n",
      "\n",
      " [[9 9 9 9]\n",
      "  [9 9 9 9]\n",
      "  [9 9 9 9]]]\n"
     ]
    }
   ],
   "source": [
    "arr5=np.full((2,3,4),9)\n",
    "print(arr5)"
   ]
  },
  {
   "cell_type": "code",
   "execution_count": 88,
   "id": "abbff8d6",
   "metadata": {},
   "outputs": [
    {
     "data": {
      "text/plain": [
       "array([ 0,  2,  4,  6,  8, 10, 12, 14, 16, 18, 20, 22, 24, 26, 28, 30, 32,\n",
       "       34, 36, 38, 40, 42, 44, 46, 48])"
      ]
     },
     "execution_count": 88,
     "metadata": {},
     "output_type": "execute_result"
    }
   ],
   "source": [
    "arr6=np.arange(0,50,2)\n",
    "arr6"
   ]
  },
  {
   "cell_type": "code",
   "execution_count": 89,
   "id": "f45cf6c4",
   "metadata": {},
   "outputs": [
    {
     "data": {
      "text/plain": [
       "array([[31, 35, 27, 15, 24, 33, 23],\n",
       "       [30, 32, 39, 30, 26, 27, 27],\n",
       "       [15, 17, 23, 25, 33, 32, 38],\n",
       "       [34, 26, 33, 39, 36, 25, 16],\n",
       "       [33, 29, 34, 37, 28, 18, 34]], dtype=int32)"
      ]
     },
     "execution_count": 89,
     "metadata": {},
     "output_type": "execute_result"
    }
   ],
   "source": [
    "# temperature qtn\n",
    "# create array to store temps for 5 days and 7 stations\n",
    "arr7=np.random.randint(15,40, size=(5,7))\n",
    "arr7"
   ]
  },
  {
   "cell_type": "code",
   "execution_count": 90,
   "id": "7dabbebe",
   "metadata": {},
   "outputs": [
    {
     "data": {
      "text/plain": [
       "array([91, 92, 77, 52, 69, 25, 74, 84, 35, 66, 46, 97, 65, 58, 39, 48, 25,\n",
       "       47, 89, 56, 87, 84, 33, 92, 40, 43, 69, 62, 89, 62], dtype=int32)"
      ]
     },
     "execution_count": 90,
     "metadata": {},
     "output_type": "execute_result"
    }
   ],
   "source": [
    "# initialize an array for 30 students starting at 25\n",
    "arr8=np.random.randint(25,100, size=(30))\n",
    "arr8"
   ]
  },
  {
   "cell_type": "code",
   "execution_count": 91,
   "id": "0f251663",
   "metadata": {},
   "outputs": [],
   "source": [
    "# 1. Array Attributes\n",
    "# 2. Slicing and Indexing\n",
    "# 3. Vecorization\n",
    "# 4. Broeadcasting\n"
   ]
  },
  {
   "cell_type": "code",
   "execution_count": 92,
   "id": "b76ad332",
   "metadata": {},
   "outputs": [
    {
     "data": {
      "text/plain": [
       "array([[14],\n",
       "       [22],\n",
       "       [37],\n",
       "       [35],\n",
       "       [47],\n",
       "       [36],\n",
       "       [33],\n",
       "       [11],\n",
       "       [ 4],\n",
       "       [23],\n",
       "       [12],\n",
       "       [18],\n",
       "       [32],\n",
       "       [ 5],\n",
       "       [39]], dtype=int32)"
      ]
     },
     "execution_count": 92,
     "metadata": {},
     "output_type": "execute_result"
    }
   ],
   "source": [
    "# Array Attributes\n",
    "\n",
    "import numpy as np\n",
    "\n",
    "x1= np.random.randint(50, size=(3,5)).reshape(15,1)\n",
    "x1"
   ]
  },
  {
   "cell_type": "code",
   "execution_count": 93,
   "id": "7def7685",
   "metadata": {},
   "outputs": [
    {
     "data": {
      "text/plain": [
       "array([[14, 22, 37],\n",
       "       [35, 47, 36],\n",
       "       [33, 11,  4],\n",
       "       [23, 12, 18],\n",
       "       [32,  5, 39]], dtype=int32)"
      ]
     },
     "execution_count": 93,
     "metadata": {},
     "output_type": "execute_result"
    }
   ],
   "source": [
    "x1.reshape(5,3)"
   ]
  },
  {
   "cell_type": "code",
   "execution_count": 94,
   "id": "c7e5c188",
   "metadata": {},
   "outputs": [
    {
     "name": "stdout",
     "output_type": "stream",
     "text": [
      "(15, 1)\n",
      "2\n",
      "int32\n"
     ]
    },
    {
     "data": {
      "text/plain": [
       "15"
      ]
     },
     "execution_count": 94,
     "metadata": {},
     "output_type": "execute_result"
    }
   ],
   "source": [
    "print(x1.shape)\n",
    "print(x1.ndim)\n",
    "print(x1.dtype)\n",
    "x1.size"
   ]
  },
  {
   "cell_type": "code",
   "execution_count": 95,
   "id": "85fc4bb9",
   "metadata": {},
   "outputs": [],
   "source": [
    "# Slicing and Indexing\n",
    "# Accessing elements in an array"
   ]
  },
  {
   "cell_type": "code",
   "execution_count": 96,
   "id": "90ec4d14",
   "metadata": {},
   "outputs": [
    {
     "data": {
      "text/plain": [
       "array([10, 12, 14, 16, 18])"
      ]
     },
     "execution_count": 96,
     "metadata": {},
     "output_type": "execute_result"
    }
   ],
   "source": [
    "x2=np.arange(10,20,2)\n",
    "x2"
   ]
  },
  {
   "cell_type": "code",
   "execution_count": 97,
   "id": "e2c8dff1",
   "metadata": {},
   "outputs": [
    {
     "name": "stdout",
     "output_type": "stream",
     "text": [
      "16\n"
     ]
    }
   ],
   "source": [
    "print(x2[3])"
   ]
  },
  {
   "cell_type": "code",
   "execution_count": 98,
   "id": "6f18211e",
   "metadata": {},
   "outputs": [
    {
     "data": {
      "text/plain": [
       "array([[10, 13, 16, 19, 22, 25],\n",
       "       [28, 31, 34, 37, 40, 43],\n",
       "       [46, 49, 52, 55, 58, 61],\n",
       "       [64, 67, 70, 73, 76, 79],\n",
       "       [82, 85, 88, 91, 94, 97]])"
      ]
     },
     "execution_count": 98,
     "metadata": {},
     "output_type": "execute_result"
    }
   ],
   "source": [
    "x3=np.arange(10,100,3).reshape(5,6)\n",
    "x3"
   ]
  },
  {
   "cell_type": "code",
   "execution_count": 99,
   "id": "c62621fc",
   "metadata": {},
   "outputs": [
    {
     "data": {
      "text/plain": [
       "np.int64(55)"
      ]
     },
     "execution_count": 99,
     "metadata": {},
     "output_type": "execute_result"
    }
   ],
   "source": [
    "# accessing 55\n",
    "x3[2,3]"
   ]
  },
  {
   "cell_type": "code",
   "execution_count": 100,
   "id": "18fd87f2",
   "metadata": {},
   "outputs": [
    {
     "data": {
      "text/plain": [
       "array([[[10, 13, 16, 19, 22],\n",
       "        [25, 28, 31, 34, 37],\n",
       "        [40, 43, 46, 49, 52]],\n",
       "\n",
       "       [[55, 58, 61, 64, 67],\n",
       "        [70, 73, 76, 79, 82],\n",
       "        [85, 88, 91, 94, 97]]])"
      ]
     },
     "execution_count": 100,
     "metadata": {},
     "output_type": "execute_result"
    }
   ],
   "source": [
    "x4=x3.reshape(2,3,5)\n",
    "x4"
   ]
  },
  {
   "cell_type": "code",
   "execution_count": 101,
   "id": "f84debf5",
   "metadata": {},
   "outputs": [
    {
     "data": {
      "text/plain": [
       "array([[[ 10,  13,  16,  19,  22],\n",
       "        [ 25,  28,  31,  34,  37],\n",
       "        [ 40,  43,  46,  49,  52]],\n",
       "\n",
       "       [[ 55,  58,  61,  64,  67],\n",
       "        [ 70,  73, 100,  79,  82],\n",
       "        [ 85,  88,  91,  94,  97]]])"
      ]
     },
     "execution_count": 101,
     "metadata": {},
     "output_type": "execute_result"
    }
   ],
   "source": [
    "# accessing 76\n",
    "x4[1,1,2]=100\n",
    "x4"
   ]
  },
  {
   "cell_type": "markdown",
   "id": "49732d44",
   "metadata": {},
   "source": []
  },
  {
   "cell_type": "markdown",
   "id": "be134d4d",
   "metadata": {},
   "source": [
    "## Slicing arrays\n"
   ]
  },
  {
   "cell_type": "code",
   "execution_count": 102,
   "id": "c27e26c4",
   "metadata": {},
   "outputs": [
    {
     "data": {
      "text/plain": [
       "array([0, 1, 2, 3, 4, 5, 6, 7, 8, 9])"
      ]
     },
     "execution_count": 102,
     "metadata": {},
     "output_type": "execute_result"
    }
   ],
   "source": [
    "x5=np.arange(10)\n",
    "x5"
   ]
  },
  {
   "cell_type": "code",
   "execution_count": 103,
   "id": "f6510ace",
   "metadata": {},
   "outputs": [
    {
     "data": {
      "text/plain": [
       "array([4, 5, 6])"
      ]
     },
     "execution_count": 103,
     "metadata": {},
     "output_type": "execute_result"
    }
   ],
   "source": [
    "x5[4:7]"
   ]
  },
  {
   "cell_type": "code",
   "execution_count": 104,
   "id": "f802878e",
   "metadata": {},
   "outputs": [
    {
     "data": {
      "text/plain": [
       "array([23, 56, 78, 90, 67])"
      ]
     },
     "execution_count": 104,
     "metadata": {},
     "output_type": "execute_result"
    }
   ],
   "source": [
    "x6=np.array([23,56,78,90,67])\n",
    "x6"
   ]
  },
  {
   "cell_type": "code",
   "execution_count": 105,
   "id": "b20c2bfe",
   "metadata": {},
   "outputs": [
    {
     "data": {
      "text/plain": [
       "array([90, 67])"
      ]
     },
     "execution_count": 105,
     "metadata": {},
     "output_type": "execute_result"
    }
   ],
   "source": [
    "x6[3:5]"
   ]
  },
  {
   "cell_type": "code",
   "execution_count": 106,
   "id": "b5ae7683",
   "metadata": {},
   "outputs": [
    {
     "data": {
      "text/plain": [
       "array([23, 78, 67])"
      ]
     },
     "execution_count": 106,
     "metadata": {},
     "output_type": "execute_result"
    }
   ],
   "source": [
    "x6[0:5:2]"
   ]
  },
  {
   "cell_type": "code",
   "execution_count": 107,
   "id": "3f050534",
   "metadata": {},
   "outputs": [
    {
     "data": {
      "text/plain": [
       "array([[[23, 56],\n",
       "        [78, 90],\n",
       "        [67, 50]],\n",
       "\n",
       "       [[45, 89],\n",
       "        [34, 10],\n",
       "        [29, 44]]])"
      ]
     },
     "execution_count": 107,
     "metadata": {},
     "output_type": "execute_result"
    }
   ],
   "source": [
    "x7=np.array([23,56,78,90,67,50,45,89,34,10,29,44]).reshape(2,3,2)\n",
    "x7"
   ]
  },
  {
   "cell_type": "code",
   "execution_count": 108,
   "id": "66660e75",
   "metadata": {},
   "outputs": [
    {
     "data": {
      "text/plain": [
       "array([[56, 90, 50],\n",
       "       [89, 10, 44]])"
      ]
     },
     "execution_count": 108,
     "metadata": {},
     "output_type": "execute_result"
    }
   ],
   "source": [
    "x7[:,:,1]"
   ]
  },
  {
   "cell_type": "code",
   "execution_count": 109,
   "id": "4284d778",
   "metadata": {},
   "outputs": [
    {
     "data": {
      "text/plain": [
       "array([[34, 10]])"
      ]
     },
     "execution_count": 109,
     "metadata": {},
     "output_type": "execute_result"
    }
   ],
   "source": [
    "x7[1:3,1]"
   ]
  },
  {
   "cell_type": "code",
   "execution_count": 110,
   "id": "c88c40e9",
   "metadata": {},
   "outputs": [
    {
     "data": {
      "text/plain": [
       "array([[67, 50],\n",
       "       [29, 44]])"
      ]
     },
     "execution_count": 110,
     "metadata": {},
     "output_type": "execute_result"
    }
   ],
   "source": [
    "x7[0:3,2]"
   ]
  },
  {
   "cell_type": "code",
   "execution_count": 111,
   "id": "03a14f5d",
   "metadata": {},
   "outputs": [
    {
     "data": {
      "text/plain": [
       "array([[[78, 90],\n",
       "        [67, 50]],\n",
       "\n",
       "       [[34, 10],\n",
       "        [29, 44]]])"
      ]
     },
     "execution_count": 111,
     "metadata": {},
     "output_type": "execute_result"
    }
   ],
   "source": [
    "x7[0:2,1:3]"
   ]
  },
  {
   "cell_type": "code",
   "execution_count": 112,
   "id": "c71f05f6",
   "metadata": {},
   "outputs": [
    {
     "data": {
      "text/plain": [
       "array([0, 1, 2, 3, 4, 5, 6, 7, 8, 9])"
      ]
     },
     "execution_count": 112,
     "metadata": {},
     "output_type": "execute_result"
    }
   ],
   "source": [
    "x8=np.array([0,1,2,3,4,5,6,7,8,9])\n",
    "x8"
   ]
  },
  {
   "cell_type": "code",
   "execution_count": 113,
   "id": "063b6a31",
   "metadata": {},
   "outputs": [
    {
     "data": {
      "text/plain": [
       "array([9, 8, 7, 6, 5, 4, 3, 2, 1, 0])"
      ]
     },
     "execution_count": 113,
     "metadata": {},
     "output_type": "execute_result"
    }
   ],
   "source": [
    "x8[::-1]"
   ]
  },
  {
   "cell_type": "code",
   "execution_count": 114,
   "id": "a7fdfec6",
   "metadata": {},
   "outputs": [
    {
     "name": "stdout",
     "output_type": "stream",
     "text": [
      "This is a palindrome\n"
     ]
    }
   ],
   "source": [
    "a='BOB'\n",
    "b=a[::-1]\n",
    "if a==b:\n",
    "    print(\"This is a palindrome\")\n",
    "else:\n",
    "    print(\"Not a palindrome\")"
   ]
  },
  {
   "cell_type": "code",
   "execution_count": 115,
   "id": "59ac996e",
   "metadata": {},
   "outputs": [
    {
     "data": {
      "text/plain": [
       "array([[[ 10,  13,  16,  19,  22],\n",
       "        [ 25,  28,  31,  34,  37],\n",
       "        [ 40,  43,  46,  49,  52]],\n",
       "\n",
       "       [[ 55,  58,  61,  64,  67],\n",
       "        [ 70,  73, 100,  79,  82],\n",
       "        [ 85,  88,  91,  94,  97]]])"
      ]
     },
     "execution_count": 115,
     "metadata": {},
     "output_type": "execute_result"
    }
   ],
   "source": [
    "x4"
   ]
  },
  {
   "cell_type": "code",
   "execution_count": 117,
   "id": "f7987ce6",
   "metadata": {},
   "outputs": [
    {
     "data": {
      "text/plain": [
       "array([[[23, 56],\n",
       "        [78, 90],\n",
       "        [67, 50]],\n",
       "\n",
       "       [[45, 89],\n",
       "        [34, 10],\n",
       "        [29, 44]]])"
      ]
     },
     "execution_count": 117,
     "metadata": {},
     "output_type": "execute_result"
    }
   ],
   "source": [
    "x7"
   ]
  },
  {
   "cell_type": "code",
   "execution_count": 118,
   "id": "ea29414b",
   "metadata": {},
   "outputs": [
    {
     "data": {
      "text/plain": [
       "array([[[28, 61],\n",
       "        [83, 95],\n",
       "        [72, 55]],\n",
       "\n",
       "       [[50, 94],\n",
       "        [39, 15],\n",
       "        [34, 49]]])"
      ]
     },
     "execution_count": 118,
     "metadata": {},
     "output_type": "execute_result"
    }
   ],
   "source": [
    "np.add(x7, 5)"
   ]
  },
  {
   "cell_type": "code",
   "execution_count": 119,
   "id": "752590f3",
   "metadata": {},
   "outputs": [
    {
     "data": {
      "text/plain": [
       "array([[[ 46, 112],\n",
       "        [156, 180],\n",
       "        [134, 100]],\n",
       "\n",
       "       [[ 90, 178],\n",
       "        [ 68,  20],\n",
       "        [ 58,  88]]])"
      ]
     },
     "execution_count": 119,
     "metadata": {},
     "output_type": "execute_result"
    }
   ],
   "source": [
    "np.multiply(x7, 2)"
   ]
  },
  {
   "cell_type": "code",
   "execution_count": 120,
   "id": "7e1a5046",
   "metadata": {},
   "outputs": [
    {
     "data": {
      "text/plain": [
       "array([[[ 529, 3136],\n",
       "        [6084, 8100],\n",
       "        [4489, 2500]],\n",
       "\n",
       "       [[2025, 7921],\n",
       "        [1156,  100],\n",
       "        [ 841, 1936]]])"
      ]
     },
     "execution_count": 120,
     "metadata": {},
     "output_type": "execute_result"
    }
   ],
   "source": [
    "np.power(x7, 2)"
   ]
  },
  {
   "cell_type": "code",
   "execution_count": 121,
   "id": "89b6780b",
   "metadata": {},
   "outputs": [
    {
     "data": {
      "text/plain": [
       "array([[[4.79583152, 7.48331477],\n",
       "        [8.83176087, 9.48683298],\n",
       "        [8.18535277, 7.07106781]],\n",
       "\n",
       "       [[6.70820393, 9.43398113],\n",
       "        [5.83095189, 3.16227766],\n",
       "        [5.38516481, 6.63324958]]])"
      ]
     },
     "execution_count": 121,
     "metadata": {},
     "output_type": "execute_result"
    }
   ],
   "source": [
    "np.sqrt(x7)"
   ]
  },
  {
   "cell_type": "code",
   "execution_count": 122,
   "id": "dacebad5",
   "metadata": {},
   "outputs": [
    {
     "data": {
      "text/plain": [
       "array([0.0131176 , 0.14291129, 0.08317473, 0.64413265, 0.44728788,\n",
       "       0.48108834, 0.19267175, 0.59937263, 0.54902238, 0.74841276,\n",
       "       0.62051344, 0.24373225, 0.19603335, 0.89187234, 0.99190845,\n",
       "       0.46833894, 0.92043198, 0.58557411, 0.17376398, 0.56799492])"
      ]
     },
     "execution_count": 122,
     "metadata": {},
     "output_type": "execute_result"
    }
   ],
   "source": [
    "x9=np.random.rand(20)\n",
    "x9"
   ]
  },
  {
   "cell_type": "code",
   "execution_count": 123,
   "id": "1937f657",
   "metadata": {},
   "outputs": [
    {
     "data": {
      "text/plain": [
       "array([0.99991397, 0.98980555, 0.99654298, 0.79962091, 0.90162347,\n",
       "       0.88649183, 0.98149615, 0.82568969, 0.8530351 , 0.73276987,\n",
       "       0.81358002, 0.97044405, 0.98084692, 0.62795598, 0.54709335,\n",
       "       0.89231933, 0.60547642, 0.83339492, 0.98494099, 0.84298129])"
      ]
     },
     "execution_count": 123,
     "metadata": {},
     "output_type": "execute_result"
    }
   ],
   "source": [
    "np.cos(x9)"
   ]
  },
  {
   "cell_type": "code",
   "execution_count": null,
   "id": "f517ad1d",
   "metadata": {},
   "outputs": [
    {
     "data": {
      "text/plain": [
       "array([[23, 56, 78, 90],\n",
       "       [67, 50, 45, 89],\n",
       "       [34, 10, 29, 44]])"
      ]
     },
     "execution_count": 129,
     "metadata": {},
     "output_type": "execute_result"
    }
   ],
   "source": [
    "# AGGREGATION\n",
    "# rows axis=0\n",
    "# columns axis=1\n",
    "x10=x7.reshape(3,4)\n",
    "x10"
   ]
  },
  {
   "cell_type": "code",
   "execution_count": 133,
   "id": "b78c659b",
   "metadata": {},
   "outputs": [
    {
     "data": {
      "text/plain": [
       "array([124, 116, 152, 223])"
      ]
     },
     "execution_count": 133,
     "metadata": {},
     "output_type": "execute_result"
    }
   ],
   "source": [
    "x10=x7.reshape(3,4)\n",
    "x10\n",
    "\n",
    "np.sum(x10, axis=0)"
   ]
  },
  {
   "cell_type": "code",
   "execution_count": null,
   "id": "e68205b2",
   "metadata": {},
   "outputs": [
    {
     "data": {
      "text/plain": [
       "array([1, 3, 5, 7, 9])"
      ]
     },
     "execution_count": 134,
     "metadata": {},
     "output_type": "execute_result"
    }
   ],
   "source": [
    "# BROADCASTING\n",
    "# rules:\n",
    "# numpy checks trailing dimension should  equal or one of them one\n",
    "# do the same for first dimension\n",
    "# \n",
    "ar1=np.arange(5)\n",
    "ar2=np.array([1,2,3,4,5])\n",
    "np.add(ar1,ar2)"
   ]
  },
  {
   "cell_type": "code",
   "execution_count": 1,
   "id": "affee861",
   "metadata": {},
   "outputs": [
    {
     "data": {
      "text/plain": [
       "array([52, 43, 67, 55, 45, 28, 64])"
      ]
     },
     "execution_count": 1,
     "metadata": {},
     "output_type": "execute_result"
    }
   ],
   "source": [
    "# MASKS COMPARISONS AND BOOLEAN OPERATORS IN NUMPY\n",
    "import numpy as np\n",
    "\n",
    "weights=np.array([52,43,67,55,45,28,64])\n",
    "weights"
   ]
  },
  {
   "cell_type": "code",
   "execution_count": 2,
   "id": "33bda6cf",
   "metadata": {},
   "outputs": [
    {
     "data": {
      "text/plain": [
       "array([False, False,  True, False, False, False,  True])"
      ]
     },
     "execution_count": 2,
     "metadata": {},
     "output_type": "execute_result"
    }
   ],
   "source": [
    "obese_mask=weights>60\n",
    "obese_mask"
   ]
  },
  {
   "cell_type": "code",
   "execution_count": 3,
   "id": "bdf7e57e",
   "metadata": {},
   "outputs": [
    {
     "data": {
      "text/plain": [
       "array([67, 64])"
      ]
     },
     "execution_count": 3,
     "metadata": {},
     "output_type": "execute_result"
    }
   ],
   "source": [
    "obese_patients=weights[obese_mask]\n",
    "obese_patients"
   ]
  },
  {
   "cell_type": "code",
   "execution_count": 4,
   "id": "6625ec45",
   "metadata": {},
   "outputs": [
    {
     "data": {
      "text/plain": [
       "array([ True,  True, False,  True,  True, False, False])"
      ]
     },
     "execution_count": 4,
     "metadata": {},
     "output_type": "execute_result"
    }
   ],
   "source": [
    "moderate_mask=(weights>=40)&(weights<=60)\n",
    "moderate_mask"
   ]
  },
  {
   "cell_type": "code",
   "execution_count": 5,
   "id": "31dbcd2f",
   "metadata": {},
   "outputs": [
    {
     "data": {
      "text/plain": [
       "array([ True,  True, False,  True,  True,  True, False])"
      ]
     },
     "execution_count": 5,
     "metadata": {},
     "output_type": "execute_result"
    }
   ],
   "source": [
    "not_obese_mask=weights<60\n",
    "not_obese_mask"
   ]
  },
  {
   "cell_type": "markdown",
   "id": "5f214878",
   "metadata": {},
   "source": [
    "\n",
    "# FUNDAMENTALS IN PANDAS\n",
    "1. Data Structures in pandas \n",
    "2. File formats and importing data into pandas\n",
    "3. Basic inspection of a df\n",
    "4. Indexing/Slicing of df"
   ]
  },
  {
   "cell_type": "code",
   "execution_count": 8,
   "id": "6f39ee51",
   "metadata": {},
   "outputs": [
    {
     "data": {
      "text/html": [
       "<div>\n",
       "<style scoped>\n",
       "    .dataframe tbody tr th:only-of-type {\n",
       "        vertical-align: middle;\n",
       "    }\n",
       "\n",
       "    .dataframe tbody tr th {\n",
       "        vertical-align: top;\n",
       "    }\n",
       "\n",
       "    .dataframe thead th {\n",
       "        text-align: right;\n",
       "    }\n",
       "</style>\n",
       "<table border=\"1\" class=\"dataframe\">\n",
       "  <thead>\n",
       "    <tr style=\"text-align: right;\">\n",
       "      <th></th>\n",
       "      <th>Brands</th>\n",
       "      <th>Models</th>\n",
       "      <th>Colors</th>\n",
       "      <th>Memory</th>\n",
       "      <th>Storage</th>\n",
       "      <th>Camera</th>\n",
       "      <th>Rating</th>\n",
       "      <th>Selling Price</th>\n",
       "      <th>Original Price</th>\n",
       "      <th>Mobile</th>\n",
       "      <th>Discount</th>\n",
       "      <th>discount percentage</th>\n",
       "    </tr>\n",
       "  </thead>\n",
       "  <tbody>\n",
       "    <tr>\n",
       "      <th>0</th>\n",
       "      <td>SAMSUNG</td>\n",
       "      <td>GALAXY M31S</td>\n",
       "      <td>Mirage Black</td>\n",
       "      <td>8 GB</td>\n",
       "      <td>128 GB</td>\n",
       "      <td>Yes</td>\n",
       "      <td>4.3</td>\n",
       "      <td>19330</td>\n",
       "      <td>20999</td>\n",
       "      <td>SAMSUNG GALAXY M31S</td>\n",
       "      <td>1669</td>\n",
       "      <td>7.947998</td>\n",
       "    </tr>\n",
       "    <tr>\n",
       "      <th>1</th>\n",
       "      <td>Nokia</td>\n",
       "      <td>3.2</td>\n",
       "      <td>Steel</td>\n",
       "      <td>2 GB</td>\n",
       "      <td>16 GB</td>\n",
       "      <td>Yes</td>\n",
       "      <td>3.8</td>\n",
       "      <td>10199</td>\n",
       "      <td>10199</td>\n",
       "      <td>Nokia 3.2</td>\n",
       "      <td>0</td>\n",
       "      <td>0.000000</td>\n",
       "    </tr>\n",
       "    <tr>\n",
       "      <th>2</th>\n",
       "      <td>realme</td>\n",
       "      <td>C2</td>\n",
       "      <td>Diamond Black</td>\n",
       "      <td>2 GB</td>\n",
       "      <td>NaN</td>\n",
       "      <td>Yes</td>\n",
       "      <td>4.4</td>\n",
       "      <td>6999</td>\n",
       "      <td>7999</td>\n",
       "      <td>realme C2</td>\n",
       "      <td>1000</td>\n",
       "      <td>12.501563</td>\n",
       "    </tr>\n",
       "    <tr>\n",
       "      <th>3</th>\n",
       "      <td>Infinix</td>\n",
       "      <td>Note 5</td>\n",
       "      <td>Ice Blue</td>\n",
       "      <td>4 GB</td>\n",
       "      <td>64 GB</td>\n",
       "      <td>Yes</td>\n",
       "      <td>4.2</td>\n",
       "      <td>12999</td>\n",
       "      <td>12999</td>\n",
       "      <td>Infinix Note 5</td>\n",
       "      <td>0</td>\n",
       "      <td>0.000000</td>\n",
       "    </tr>\n",
       "    <tr>\n",
       "      <th>4</th>\n",
       "      <td>Apple</td>\n",
       "      <td>iPhone 11</td>\n",
       "      <td>Black</td>\n",
       "      <td>4GB</td>\n",
       "      <td>64 GB</td>\n",
       "      <td>Yes</td>\n",
       "      <td>4.6</td>\n",
       "      <td>49900</td>\n",
       "      <td>49900</td>\n",
       "      <td>Apple iPhone 11</td>\n",
       "      <td>0</td>\n",
       "      <td>0.000000</td>\n",
       "    </tr>\n",
       "    <tr>\n",
       "      <th>...</th>\n",
       "      <td>...</td>\n",
       "      <td>...</td>\n",
       "      <td>...</td>\n",
       "      <td>...</td>\n",
       "      <td>...</td>\n",
       "      <td>...</td>\n",
       "      <td>...</td>\n",
       "      <td>...</td>\n",
       "      <td>...</td>\n",
       "      <td>...</td>\n",
       "      <td>...</td>\n",
       "      <td>...</td>\n",
       "    </tr>\n",
       "    <tr>\n",
       "      <th>3109</th>\n",
       "      <td>POCO</td>\n",
       "      <td>M4 Pro 5G</td>\n",
       "      <td>Cool Blue</td>\n",
       "      <td>6 GB</td>\n",
       "      <td>128 GB</td>\n",
       "      <td>Yes</td>\n",
       "      <td>4.4</td>\n",
       "      <td>16999</td>\n",
       "      <td>19999</td>\n",
       "      <td>POCO M4 Pro 5G</td>\n",
       "      <td>3000</td>\n",
       "      <td>15.000750</td>\n",
       "    </tr>\n",
       "    <tr>\n",
       "      <th>3110</th>\n",
       "      <td>Nokia</td>\n",
       "      <td>225</td>\n",
       "      <td>Black</td>\n",
       "      <td>NaN</td>\n",
       "      <td>Expandable Upto 32 GB</td>\n",
       "      <td>Yes</td>\n",
       "      <td>3.6</td>\n",
       "      <td>3499</td>\n",
       "      <td>3499</td>\n",
       "      <td>Nokia 225</td>\n",
       "      <td>0</td>\n",
       "      <td>0.000000</td>\n",
       "    </tr>\n",
       "    <tr>\n",
       "      <th>3111</th>\n",
       "      <td>Apple</td>\n",
       "      <td>iPhone SE</td>\n",
       "      <td>White</td>\n",
       "      <td>2 GB</td>\n",
       "      <td>128 GB</td>\n",
       "      <td>Yes</td>\n",
       "      <td>4.5</td>\n",
       "      <td>44900</td>\n",
       "      <td>44900</td>\n",
       "      <td>Apple iPhone SE</td>\n",
       "      <td>0</td>\n",
       "      <td>0.000000</td>\n",
       "    </tr>\n",
       "    <tr>\n",
       "      <th>3112</th>\n",
       "      <td>Apple</td>\n",
       "      <td>iPhone 13 Pro</td>\n",
       "      <td>Gold</td>\n",
       "      <td>6 GB</td>\n",
       "      <td>128 GB</td>\n",
       "      <td>Yes</td>\n",
       "      <td>NaN</td>\n",
       "      <td>119900</td>\n",
       "      <td>119900</td>\n",
       "      <td>Apple iPhone 13 Pro</td>\n",
       "      <td>0</td>\n",
       "      <td>0.000000</td>\n",
       "    </tr>\n",
       "    <tr>\n",
       "      <th>3113</th>\n",
       "      <td>GIONEE</td>\n",
       "      <td>F9</td>\n",
       "      <td>Blue</td>\n",
       "      <td>3 GB</td>\n",
       "      <td>32 GB</td>\n",
       "      <td>Yes</td>\n",
       "      <td>4.2</td>\n",
       "      <td>7900</td>\n",
       "      <td>7900</td>\n",
       "      <td>GIONEE F9</td>\n",
       "      <td>0</td>\n",
       "      <td>0.000000</td>\n",
       "    </tr>\n",
       "  </tbody>\n",
       "</table>\n",
       "<p>3114 rows × 12 columns</p>\n",
       "</div>"
      ],
      "text/plain": [
       "       Brands          Models         Colors Memory                Storage  \\\n",
       "0     SAMSUNG    GALAXY M31S    Mirage Black   8 GB                 128 GB   \n",
       "1       Nokia             3.2          Steel   2 GB                  16 GB   \n",
       "2      realme             C2   Diamond Black   2 GB                    NaN   \n",
       "3     Infinix          Note 5       Ice Blue   4 GB                  64 GB   \n",
       "4       Apple      iPhone 11           Black    4GB                  64 GB   \n",
       "...       ...             ...            ...    ...                    ...   \n",
       "3109     POCO       M4 Pro 5G      Cool Blue   6 GB                 128 GB   \n",
       "3110    Nokia             225          Black    NaN  Expandable Upto 32 GB   \n",
       "3111    Apple      iPhone SE           White   2 GB                 128 GB   \n",
       "3112    Apple  iPhone 13 Pro            Gold   6 GB                 128 GB   \n",
       "3113   GIONEE             F9            Blue   3 GB                  32 GB   \n",
       "\n",
       "     Camera  Rating  Selling Price  Original Price                Mobile  \\\n",
       "0       Yes     4.3          19330           20999  SAMSUNG GALAXY M31S    \n",
       "1       Yes     3.8          10199           10199             Nokia 3.2   \n",
       "2       Yes     4.4           6999            7999            realme C2    \n",
       "3       Yes     4.2          12999           12999        Infinix Note 5   \n",
       "4       Yes     4.6          49900           49900      Apple iPhone 11    \n",
       "...     ...     ...            ...             ...                   ...   \n",
       "3109    Yes     4.4          16999           19999        POCO M4 Pro 5G   \n",
       "3110    Yes     3.6           3499            3499             Nokia 225   \n",
       "3111    Yes     4.5          44900           44900      Apple iPhone SE    \n",
       "3112    Yes     NaN         119900          119900  Apple iPhone 13 Pro    \n",
       "3113    Yes     4.2           7900            7900            GIONEE F9    \n",
       "\n",
       "      Discount  discount percentage  \n",
       "0         1669             7.947998  \n",
       "1            0             0.000000  \n",
       "2         1000            12.501563  \n",
       "3            0             0.000000  \n",
       "4            0             0.000000  \n",
       "...        ...                  ...  \n",
       "3109      3000            15.000750  \n",
       "3110         0             0.000000  \n",
       "3111         0             0.000000  \n",
       "3112         0             0.000000  \n",
       "3113         0             0.000000  \n",
       "\n",
       "[3114 rows x 12 columns]"
      ]
     },
     "execution_count": 8,
     "metadata": {},
     "output_type": "execute_result"
    }
   ],
   "source": [
    "# csv, tsv, excel files, data from urls\n",
    "\n",
    "import pandas as pd\n",
    "\n",
    "df=pd.read_csv(r\"C:\\Users\\Administrator\\Downloads\\Sales.csv\")\n",
    "df"
   ]
  },
  {
   "cell_type": "code",
   "execution_count": 9,
   "id": "a2399598",
   "metadata": {},
   "outputs": [
    {
     "data": {
      "text/plain": [
       "(3114, 12)"
      ]
     },
     "execution_count": 9,
     "metadata": {},
     "output_type": "execute_result"
    }
   ],
   "source": [
    "df.shape"
   ]
  },
  {
   "cell_type": "code",
   "execution_count": 12,
   "id": "2c6c3a70",
   "metadata": {},
   "outputs": [
    {
     "data": {
      "text/html": [
       "<div>\n",
       "<style scoped>\n",
       "    .dataframe tbody tr th:only-of-type {\n",
       "        vertical-align: middle;\n",
       "    }\n",
       "\n",
       "    .dataframe tbody tr th {\n",
       "        vertical-align: top;\n",
       "    }\n",
       "\n",
       "    .dataframe thead th {\n",
       "        text-align: right;\n",
       "    }\n",
       "</style>\n",
       "<table border=\"1\" class=\"dataframe\">\n",
       "  <thead>\n",
       "    <tr style=\"text-align: right;\">\n",
       "      <th></th>\n",
       "      <th>Rating</th>\n",
       "      <th>Selling Price</th>\n",
       "      <th>Original Price</th>\n",
       "      <th>Discount</th>\n",
       "      <th>discount percentage</th>\n",
       "    </tr>\n",
       "  </thead>\n",
       "  <tbody>\n",
       "    <tr>\n",
       "      <th>count</th>\n",
       "      <td>2970.000000</td>\n",
       "      <td>3114.000000</td>\n",
       "      <td>3114.000000</td>\n",
       "      <td>3114.000000</td>\n",
       "      <td>3114.000000</td>\n",
       "    </tr>\n",
       "    <tr>\n",
       "      <th>mean</th>\n",
       "      <td>4.243098</td>\n",
       "      <td>26436.625562</td>\n",
       "      <td>28333.473025</td>\n",
       "      <td>1896.847463</td>\n",
       "      <td>6.086788</td>\n",
       "    </tr>\n",
       "    <tr>\n",
       "      <th>std</th>\n",
       "      <td>0.271991</td>\n",
       "      <td>30066.892622</td>\n",
       "      <td>31525.599889</td>\n",
       "      <td>5337.126176</td>\n",
       "      <td>11.106776</td>\n",
       "    </tr>\n",
       "    <tr>\n",
       "      <th>min</th>\n",
       "      <td>2.300000</td>\n",
       "      <td>1000.000000</td>\n",
       "      <td>1000.000000</td>\n",
       "      <td>-8000.000000</td>\n",
       "      <td>-160.320641</td>\n",
       "    </tr>\n",
       "    <tr>\n",
       "      <th>25%</th>\n",
       "      <td>4.100000</td>\n",
       "      <td>9990.000000</td>\n",
       "      <td>10030.250000</td>\n",
       "      <td>0.000000</td>\n",
       "      <td>0.000000</td>\n",
       "    </tr>\n",
       "    <tr>\n",
       "      <th>50%</th>\n",
       "      <td>4.300000</td>\n",
       "      <td>15000.000000</td>\n",
       "      <td>16889.500000</td>\n",
       "      <td>0.000000</td>\n",
       "      <td>0.000000</td>\n",
       "    </tr>\n",
       "    <tr>\n",
       "      <th>75%</th>\n",
       "      <td>4.400000</td>\n",
       "      <td>28999.000000</td>\n",
       "      <td>31500.000000</td>\n",
       "      <td>2000.000000</td>\n",
       "      <td>9.836388</td>\n",
       "    </tr>\n",
       "    <tr>\n",
       "      <th>max</th>\n",
       "      <td>5.000000</td>\n",
       "      <td>179900.000000</td>\n",
       "      <td>189999.000000</td>\n",
       "      <td>75000.000000</td>\n",
       "      <td>70.610305</td>\n",
       "    </tr>\n",
       "  </tbody>\n",
       "</table>\n",
       "</div>"
      ],
      "text/plain": [
       "            Rating  Selling Price  Original Price      Discount  \\\n",
       "count  2970.000000    3114.000000     3114.000000   3114.000000   \n",
       "mean      4.243098   26436.625562    28333.473025   1896.847463   \n",
       "std       0.271991   30066.892622    31525.599889   5337.126176   \n",
       "min       2.300000    1000.000000     1000.000000  -8000.000000   \n",
       "25%       4.100000    9990.000000    10030.250000      0.000000   \n",
       "50%       4.300000   15000.000000    16889.500000      0.000000   \n",
       "75%       4.400000   28999.000000    31500.000000   2000.000000   \n",
       "max       5.000000  179900.000000   189999.000000  75000.000000   \n",
       "\n",
       "       discount percentage  \n",
       "count          3114.000000  \n",
       "mean              6.086788  \n",
       "std              11.106776  \n",
       "min            -160.320641  \n",
       "25%               0.000000  \n",
       "50%               0.000000  \n",
       "75%               9.836388  \n",
       "max              70.610305  "
      ]
     },
     "execution_count": 12,
     "metadata": {},
     "output_type": "execute_result"
    }
   ],
   "source": [
    "df.describe()"
   ]
  },
  {
   "cell_type": "code",
   "execution_count": 13,
   "id": "1a370ecf",
   "metadata": {},
   "outputs": [
    {
     "data": {
      "text/plain": [
       "Index(['Brands', 'Models', 'Colors', 'Memory', 'Storage', 'Camera', 'Rating',\n",
       "       'Selling Price', 'Original Price', 'Mobile', 'Discount',\n",
       "       'discount percentage'],\n",
       "      dtype='object')"
      ]
     },
     "execution_count": 13,
     "metadata": {},
     "output_type": "execute_result"
    }
   ],
   "source": [
    "df.columns"
   ]
  },
  {
   "cell_type": "code",
   "execution_count": 14,
   "id": "e42f9a87",
   "metadata": {},
   "outputs": [
    {
     "data": {
      "text/html": [
       "<div>\n",
       "<style scoped>\n",
       "    .dataframe tbody tr th:only-of-type {\n",
       "        vertical-align: middle;\n",
       "    }\n",
       "\n",
       "    .dataframe tbody tr th {\n",
       "        vertical-align: top;\n",
       "    }\n",
       "\n",
       "    .dataframe thead th {\n",
       "        text-align: right;\n",
       "    }\n",
       "</style>\n",
       "<table border=\"1\" class=\"dataframe\">\n",
       "  <thead>\n",
       "    <tr style=\"text-align: right;\">\n",
       "      <th></th>\n",
       "      <th>Brands</th>\n",
       "      <th>Models</th>\n",
       "    </tr>\n",
       "  </thead>\n",
       "  <tbody>\n",
       "    <tr>\n",
       "      <th>0</th>\n",
       "      <td>SAMSUNG</td>\n",
       "      <td>GALAXY M31S</td>\n",
       "    </tr>\n",
       "    <tr>\n",
       "      <th>1</th>\n",
       "      <td>Nokia</td>\n",
       "      <td>3.2</td>\n",
       "    </tr>\n",
       "    <tr>\n",
       "      <th>2</th>\n",
       "      <td>realme</td>\n",
       "      <td>C2</td>\n",
       "    </tr>\n",
       "    <tr>\n",
       "      <th>3</th>\n",
       "      <td>Infinix</td>\n",
       "      <td>Note 5</td>\n",
       "    </tr>\n",
       "    <tr>\n",
       "      <th>4</th>\n",
       "      <td>Apple</td>\n",
       "      <td>iPhone 11</td>\n",
       "    </tr>\n",
       "  </tbody>\n",
       "</table>\n",
       "</div>"
      ],
      "text/plain": [
       "    Brands        Models\n",
       "0  SAMSUNG  GALAXY M31S \n",
       "1    Nokia           3.2\n",
       "2   realme           C2 \n",
       "3  Infinix        Note 5\n",
       "4    Apple    iPhone 11 "
      ]
     },
     "execution_count": 14,
     "metadata": {},
     "output_type": "execute_result"
    }
   ],
   "source": [
    "df.iloc[0:5, 0:2]"
   ]
  },
  {
   "cell_type": "code",
   "execution_count": 18,
   "id": "0c286f29",
   "metadata": {},
   "outputs": [
    {
     "data": {
      "text/html": [
       "<div>\n",
       "<style scoped>\n",
       "    .dataframe tbody tr th:only-of-type {\n",
       "        vertical-align: middle;\n",
       "    }\n",
       "\n",
       "    .dataframe tbody tr th {\n",
       "        vertical-align: top;\n",
       "    }\n",
       "\n",
       "    .dataframe thead th {\n",
       "        text-align: right;\n",
       "    }\n",
       "</style>\n",
       "<table border=\"1\" class=\"dataframe\">\n",
       "  <thead>\n",
       "    <tr style=\"text-align: right;\">\n",
       "      <th></th>\n",
       "      <th>Brands</th>\n",
       "      <th>Selling Price</th>\n",
       "      <th>Original Price</th>\n",
       "    </tr>\n",
       "  </thead>\n",
       "  <tbody>\n",
       "    <tr>\n",
       "      <th>0</th>\n",
       "      <td>SAMSUNG</td>\n",
       "      <td>19330</td>\n",
       "      <td>20999</td>\n",
       "    </tr>\n",
       "    <tr>\n",
       "      <th>1</th>\n",
       "      <td>Nokia</td>\n",
       "      <td>10199</td>\n",
       "      <td>10199</td>\n",
       "    </tr>\n",
       "    <tr>\n",
       "      <th>2</th>\n",
       "      <td>realme</td>\n",
       "      <td>6999</td>\n",
       "      <td>7999</td>\n",
       "    </tr>\n",
       "    <tr>\n",
       "      <th>3</th>\n",
       "      <td>Infinix</td>\n",
       "      <td>12999</td>\n",
       "      <td>12999</td>\n",
       "    </tr>\n",
       "    <tr>\n",
       "      <th>4</th>\n",
       "      <td>Apple</td>\n",
       "      <td>49900</td>\n",
       "      <td>49900</td>\n",
       "    </tr>\n",
       "    <tr>\n",
       "      <th>5</th>\n",
       "      <td>GIONEE</td>\n",
       "      <td>2199</td>\n",
       "      <td>2199</td>\n",
       "    </tr>\n",
       "    <tr>\n",
       "      <th>6</th>\n",
       "      <td>Apple</td>\n",
       "      <td>99900</td>\n",
       "      <td>99900</td>\n",
       "    </tr>\n",
       "    <tr>\n",
       "      <th>7</th>\n",
       "      <td>Apple</td>\n",
       "      <td>42999</td>\n",
       "      <td>47900</td>\n",
       "    </tr>\n",
       "    <tr>\n",
       "      <th>8</th>\n",
       "      <td>SAMSUNG</td>\n",
       "      <td>20400</td>\n",
       "      <td>20400</td>\n",
       "    </tr>\n",
       "    <tr>\n",
       "      <th>9</th>\n",
       "      <td>Xiaomi</td>\n",
       "      <td>21736</td>\n",
       "      <td>22999</td>\n",
       "    </tr>\n",
       "  </tbody>\n",
       "</table>\n",
       "</div>"
      ],
      "text/plain": [
       "    Brands  Selling Price  Original Price\n",
       "0  SAMSUNG          19330           20999\n",
       "1    Nokia          10199           10199\n",
       "2   realme           6999            7999\n",
       "3  Infinix          12999           12999\n",
       "4    Apple          49900           49900\n",
       "5   GIONEE           2199            2199\n",
       "6    Apple          99900           99900\n",
       "7    Apple          42999           47900\n",
       "8  SAMSUNG          20400           20400\n",
       "9   Xiaomi          21736           22999"
      ]
     },
     "execution_count": 18,
     "metadata": {},
     "output_type": "execute_result"
    }
   ],
   "source": [
    "df.iloc[0:10, [0,7,8]]"
   ]
  },
  {
   "cell_type": "code",
   "execution_count": 21,
   "id": "c58e4e2d",
   "metadata": {},
   "outputs": [
    {
     "data": {
      "text/html": [
       "<div>\n",
       "<style scoped>\n",
       "    .dataframe tbody tr th:only-of-type {\n",
       "        vertical-align: middle;\n",
       "    }\n",
       "\n",
       "    .dataframe tbody tr th {\n",
       "        vertical-align: top;\n",
       "    }\n",
       "\n",
       "    .dataframe thead th {\n",
       "        text-align: right;\n",
       "    }\n",
       "</style>\n",
       "<table border=\"1\" class=\"dataframe\">\n",
       "  <thead>\n",
       "    <tr style=\"text-align: right;\">\n",
       "      <th></th>\n",
       "      <th>Models</th>\n",
       "      <th>Colors</th>\n",
       "      <th>Memory</th>\n",
       "      <th>Storage</th>\n",
       "      <th>Camera</th>\n",
       "    </tr>\n",
       "  </thead>\n",
       "  <tbody>\n",
       "    <tr>\n",
       "      <th>0</th>\n",
       "      <td>GALAXY M31S</td>\n",
       "      <td>Mirage Black</td>\n",
       "      <td>8 GB</td>\n",
       "      <td>128 GB</td>\n",
       "      <td>Yes</td>\n",
       "    </tr>\n",
       "    <tr>\n",
       "      <th>1</th>\n",
       "      <td>3.2</td>\n",
       "      <td>Steel</td>\n",
       "      <td>2 GB</td>\n",
       "      <td>16 GB</td>\n",
       "      <td>Yes</td>\n",
       "    </tr>\n",
       "    <tr>\n",
       "      <th>2</th>\n",
       "      <td>C2</td>\n",
       "      <td>Diamond Black</td>\n",
       "      <td>2 GB</td>\n",
       "      <td>NaN</td>\n",
       "      <td>Yes</td>\n",
       "    </tr>\n",
       "    <tr>\n",
       "      <th>3</th>\n",
       "      <td>Note 5</td>\n",
       "      <td>Ice Blue</td>\n",
       "      <td>4 GB</td>\n",
       "      <td>64 GB</td>\n",
       "      <td>Yes</td>\n",
       "    </tr>\n",
       "    <tr>\n",
       "      <th>4</th>\n",
       "      <td>iPhone 11</td>\n",
       "      <td>Black</td>\n",
       "      <td>4GB</td>\n",
       "      <td>64 GB</td>\n",
       "      <td>Yes</td>\n",
       "    </tr>\n",
       "    <tr>\n",
       "      <th>...</th>\n",
       "      <td>...</td>\n",
       "      <td>...</td>\n",
       "      <td>...</td>\n",
       "      <td>...</td>\n",
       "      <td>...</td>\n",
       "    </tr>\n",
       "    <tr>\n",
       "      <th>3109</th>\n",
       "      <td>M4 Pro 5G</td>\n",
       "      <td>Cool Blue</td>\n",
       "      <td>6 GB</td>\n",
       "      <td>128 GB</td>\n",
       "      <td>Yes</td>\n",
       "    </tr>\n",
       "    <tr>\n",
       "      <th>3110</th>\n",
       "      <td>225</td>\n",
       "      <td>Black</td>\n",
       "      <td>NaN</td>\n",
       "      <td>Expandable Upto 32 GB</td>\n",
       "      <td>Yes</td>\n",
       "    </tr>\n",
       "    <tr>\n",
       "      <th>3111</th>\n",
       "      <td>iPhone SE</td>\n",
       "      <td>White</td>\n",
       "      <td>2 GB</td>\n",
       "      <td>128 GB</td>\n",
       "      <td>Yes</td>\n",
       "    </tr>\n",
       "    <tr>\n",
       "      <th>3112</th>\n",
       "      <td>iPhone 13 Pro</td>\n",
       "      <td>Gold</td>\n",
       "      <td>6 GB</td>\n",
       "      <td>128 GB</td>\n",
       "      <td>Yes</td>\n",
       "    </tr>\n",
       "    <tr>\n",
       "      <th>3113</th>\n",
       "      <td>F9</td>\n",
       "      <td>Blue</td>\n",
       "      <td>3 GB</td>\n",
       "      <td>32 GB</td>\n",
       "      <td>Yes</td>\n",
       "    </tr>\n",
       "  </tbody>\n",
       "</table>\n",
       "<p>3114 rows × 5 columns</p>\n",
       "</div>"
      ],
      "text/plain": [
       "              Models         Colors Memory                Storage Camera\n",
       "0       GALAXY M31S    Mirage Black   8 GB                 128 GB    Yes\n",
       "1                3.2          Steel   2 GB                  16 GB    Yes\n",
       "2                C2   Diamond Black   2 GB                    NaN    Yes\n",
       "3             Note 5       Ice Blue   4 GB                  64 GB    Yes\n",
       "4         iPhone 11           Black    4GB                  64 GB    Yes\n",
       "...              ...            ...    ...                    ...    ...\n",
       "3109       M4 Pro 5G      Cool Blue   6 GB                 128 GB    Yes\n",
       "3110             225          Black    NaN  Expandable Upto 32 GB    Yes\n",
       "3111      iPhone SE           White   2 GB                 128 GB    Yes\n",
       "3112  iPhone 13 Pro            Gold   6 GB                 128 GB    Yes\n",
       "3113             F9            Blue   3 GB                  32 GB    Yes\n",
       "\n",
       "[3114 rows x 5 columns]"
      ]
     },
     "execution_count": 21,
     "metadata": {},
     "output_type": "execute_result"
    }
   ],
   "source": [
    "df.iloc[:, 1:6]"
   ]
  },
  {
   "cell_type": "code",
   "execution_count": null,
   "id": "06f62d4d",
   "metadata": {},
   "outputs": [
    {
     "data": {
      "text/html": [
       "<div>\n",
       "<style scoped>\n",
       "    .dataframe tbody tr th:only-of-type {\n",
       "        vertical-align: middle;\n",
       "    }\n",
       "\n",
       "    .dataframe tbody tr th {\n",
       "        vertical-align: top;\n",
       "    }\n",
       "\n",
       "    .dataframe thead th {\n",
       "        text-align: right;\n",
       "    }\n",
       "</style>\n",
       "<table border=\"1\" class=\"dataframe\">\n",
       "  <thead>\n",
       "    <tr style=\"text-align: right;\">\n",
       "      <th></th>\n",
       "      <th>Names</th>\n",
       "      <th>Grades</th>\n",
       "      <th>Subject</th>\n",
       "    </tr>\n",
       "  </thead>\n",
       "  <tbody>\n",
       "    <tr>\n",
       "      <th>A</th>\n",
       "      <td>Stanley</td>\n",
       "      <td>80</td>\n",
       "      <td>English</td>\n",
       "    </tr>\n",
       "    <tr>\n",
       "      <th>B</th>\n",
       "      <td>Berlin</td>\n",
       "      <td>60</td>\n",
       "      <td>Math</td>\n",
       "    </tr>\n",
       "    <tr>\n",
       "      <th>C</th>\n",
       "      <td>Ivy</td>\n",
       "      <td>70</td>\n",
       "      <td>Geography</td>\n",
       "    </tr>\n",
       "    <tr>\n",
       "      <th>D</th>\n",
       "      <td>Ruth</td>\n",
       "      <td>77</td>\n",
       "      <td>Computer Science</td>\n",
       "    </tr>\n",
       "  </tbody>\n",
       "</table>\n",
       "</div>"
      ],
      "text/plain": [
       "     Names  Grades           Subject\n",
       "A  Stanley      80           English\n",
       "B   Berlin      60              Math\n",
       "C      Ivy      70         Geography\n",
       "D     Ruth      77  Computer Science"
      ]
     },
     "execution_count": 26,
     "metadata": {},
     "output_type": "execute_result"
    }
   ],
   "source": [
    "data={\n",
    " 'Name': ['Stanley', 'Ruth', 'Berlin', 'Esther'],\n",
    " 'Grades': [20,30,40,50],\n",
    " 'Subject': ['English','Math','Geography', 'Computer Science']\n",
    " }\n",
    "\n",
    "df=pd.DataFrame(data,index=['A','B','C','D'])\n",
    " \n",
    "\n",
    "\n"
   ]
  },
  {
   "cell_type": "code",
   "execution_count": 27,
   "id": "ef711d39",
   "metadata": {},
   "outputs": [
    {
     "data": {
      "text/html": [
       "<div>\n",
       "<style scoped>\n",
       "    .dataframe tbody tr th:only-of-type {\n",
       "        vertical-align: middle;\n",
       "    }\n",
       "\n",
       "    .dataframe tbody tr th {\n",
       "        vertical-align: top;\n",
       "    }\n",
       "\n",
       "    .dataframe thead th {\n",
       "        text-align: right;\n",
       "    }\n",
       "</style>\n",
       "<table border=\"1\" class=\"dataframe\">\n",
       "  <thead>\n",
       "    <tr style=\"text-align: right;\">\n",
       "      <th></th>\n",
       "      <th>Names</th>\n",
       "      <th>Grades</th>\n",
       "      <th>Subject</th>\n",
       "    </tr>\n",
       "  </thead>\n",
       "  <tbody>\n",
       "    <tr>\n",
       "      <th>C</th>\n",
       "      <td>Ivy</td>\n",
       "      <td>70</td>\n",
       "      <td>Geography</td>\n",
       "    </tr>\n",
       "    <tr>\n",
       "      <th>A</th>\n",
       "      <td>Stanley</td>\n",
       "      <td>80</td>\n",
       "      <td>English</td>\n",
       "    </tr>\n",
       "    <tr>\n",
       "      <th>D</th>\n",
       "      <td>Ruth</td>\n",
       "      <td>77</td>\n",
       "      <td>Computer Science</td>\n",
       "    </tr>\n",
       "  </tbody>\n",
       "</table>\n",
       "</div>"
      ],
      "text/plain": [
       "     Names  Grades           Subject\n",
       "C      Ivy      70         Geography\n",
       "A  Stanley      80           English\n",
       "D     Ruth      77  Computer Science"
      ]
     },
     "execution_count": 27,
     "metadata": {},
     "output_type": "execute_result"
    }
   ],
   "source": [
    "df.loc[['C', 'A', 'D']]"
   ]
  },
  {
   "cell_type": "code",
   "execution_count": 28,
   "id": "29bff189",
   "metadata": {},
   "outputs": [
    {
     "data": {
      "text/plain": [
       "A    80\n",
       "B    60\n",
       "C    70\n",
       "D    77\n",
       "Name: Grades, dtype: int64"
      ]
     },
     "execution_count": 28,
     "metadata": {},
     "output_type": "execute_result"
    }
   ],
   "source": [
    "df.loc[:, 'Grades']"
   ]
  },
  {
   "cell_type": "code",
   "execution_count": null,
   "id": "7d74bcb3",
   "metadata": {},
   "outputs": [
    {
     "data": {
      "text/html": [
       "<div>\n",
       "<style scoped>\n",
       "    .dataframe tbody tr th:only-of-type {\n",
       "        vertical-align: middle;\n",
       "    }\n",
       "\n",
       "    .dataframe tbody tr th {\n",
       "        vertical-align: top;\n",
       "    }\n",
       "\n",
       "    .dataframe thead th {\n",
       "        text-align: right;\n",
       "    }\n",
       "</style>\n",
       "<table border=\"1\" class=\"dataframe\">\n",
       "  <thead>\n",
       "    <tr style=\"text-align: right;\">\n",
       "      <th></th>\n",
       "      <th>Grades</th>\n",
       "      <th>Names</th>\n",
       "    </tr>\n",
       "  </thead>\n",
       "  <tbody>\n",
       "    <tr>\n",
       "      <th>A</th>\n",
       "      <td>80</td>\n",
       "      <td>Stanley</td>\n",
       "    </tr>\n",
       "    <tr>\n",
       "      <th>B</th>\n",
       "      <td>60</td>\n",
       "      <td>Berlin</td>\n",
       "    </tr>\n",
       "    <tr>\n",
       "      <th>C</th>\n",
       "      <td>70</td>\n",
       "      <td>Ivy</td>\n",
       "    </tr>\n",
       "    <tr>\n",
       "      <th>D</th>\n",
       "      <td>77</td>\n",
       "      <td>Ruth</td>\n",
       "    </tr>\n",
       "  </tbody>\n",
       "</table>\n",
       "</div>"
      ],
      "text/plain": [
       "   Grades    Names\n",
       "A      80  Stanley\n",
       "B      60   Berlin\n",
       "C      70      Ivy\n",
       "D      77     Ruth"
      ]
     },
     "execution_count": 29,
     "metadata": {},
     "output_type": "execute_result"
    }
   ],
   "source": [
    "df.loc[:, ['Grades','Names']]"
   ]
  },
  {
   "cell_type": "code",
   "execution_count": null,
   "id": "f78abd83",
   "metadata": {},
   "outputs": [
    {
     "data": {
      "text/html": [
       "<div>\n",
       "<style scoped>\n",
       "    .dataframe tbody tr th:only-of-type {\n",
       "        vertical-align: middle;\n",
       "    }\n",
       "\n",
       "    .dataframe tbody tr th {\n",
       "        vertical-align: top;\n",
       "    }\n",
       "\n",
       "    .dataframe thead th {\n",
       "        text-align: right;\n",
       "    }\n",
       "</style>\n",
       "<table border=\"1\" class=\"dataframe\">\n",
       "  <thead>\n",
       "    <tr style=\"text-align: right;\">\n",
       "      <th></th>\n",
       "      <th>Grades</th>\n",
       "      <th>Subject</th>\n",
       "    </tr>\n",
       "  </thead>\n",
       "  <tbody>\n",
       "    <tr>\n",
       "      <th>B</th>\n",
       "      <td>60</td>\n",
       "      <td>Math</td>\n",
       "    </tr>\n",
       "    <tr>\n",
       "      <th>D</th>\n",
       "      <td>77</td>\n",
       "      <td>Computer Science</td>\n",
       "    </tr>\n",
       "  </tbody>\n",
       "</table>\n",
       "</div>"
      ],
      "text/plain": [
       "   Grades           Subject\n",
       "B      60              Math\n",
       "D      77  Computer Science"
      ]
     },
     "execution_count": 30,
     "metadata": {},
     "output_type": "execute_result"
    }
   ],
   "source": [
    "df.loc[['B', 'D'], ['Grades', 'Subject']]"
   ]
  }
 ],
 "metadata": {
  "kernelspec": {
   "display_name": "pydata_training",
   "language": "python",
   "name": "python3"
  },
  "language_info": {
   "codemirror_mode": {
    "name": "ipython",
    "version": 3
   },
   "file_extension": ".py",
   "mimetype": "text/x-python",
   "name": "python",
   "nbconvert_exporter": "python",
   "pygments_lexer": "ipython3",
   "version": "3.12.4"
  }
 },
 "nbformat": 4,
 "nbformat_minor": 5
}
