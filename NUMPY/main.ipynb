{
 "cells": [
  {
   "cell_type": "markdown",
   "id": "e0ad8bf6",
   "metadata": {},
   "source": [
    "# Intro to numpy\n"
   ]
  },
  {
   "cell_type": "code",
   "execution_count": 1,
   "id": "69ded627",
   "metadata": {},
   "outputs": [],
   "source": [
    "# Dimensions in arrays\n",
    "# 0D array-scalar- one numerical value\n",
    "# 1D array-vector- list of elements\n",
    "# 2D array-list of elements are the elements\n",
    "# 3D array- 2D arrays are the elements"
   ]
  },
  {
   "cell_type": "code",
   "execution_count": 2,
   "id": "f8a4e9c2",
   "metadata": {},
   "outputs": [
    {
     "data": {
      "text/plain": [
       "array([1, 2, 3, 4, 5])"
      ]
     },
     "execution_count": 2,
     "metadata": {},
     "output_type": "execute_result"
    }
   ],
   "source": [
    "# arrays from lists or tuples\n",
    "# np.array()\n",
    "\n",
    "import numpy as np\n",
    "\n",
    "my_list=[1,2,3,4,5]\n",
    "arr1=np.array(my_list)\n",
    "arr1"
   ]
  },
  {
   "cell_type": "code",
   "execution_count": 3,
   "id": "975ecd60",
   "metadata": {},
   "outputs": [
    {
     "data": {
      "text/plain": [
       "array([[1, 2, 3],\n",
       "       [4, 5, 6]])"
      ]
     },
     "execution_count": 3,
     "metadata": {},
     "output_type": "execute_result"
    }
   ],
   "source": [
    "my_list=[[1,2,3],[4,5,6]]\n",
    "arr2=np.array(my_list)\n",
    "arr2"
   ]
  },
  {
   "cell_type": "code",
   "execution_count": 5,
   "id": "7b071ca1",
   "metadata": {},
   "outputs": [
    {
     "data": {
      "text/plain": [
       "array([[0.39073353, 0.01777856, 0.97383265, 0.18523451, 0.04953533],\n",
       "       [0.84182504, 0.23917894, 0.94891736, 0.00725172, 0.36040096],\n",
       "       [0.36156429, 0.00415161, 0.50200217, 0.31213639, 0.31611469],\n",
       "       [0.38771582, 0.30299282, 0.3335306 , 0.27636646, 0.11313346],\n",
       "       [0.0697844 , 0.67848517, 0.64586974, 0.57376349, 0.43886621]])"
      ]
     },
     "execution_count": 5,
     "metadata": {},
     "output_type": "execute_result"
    }
   ],
   "source": [
    "# array from random values\n",
    "\n",
    "arr3=np.random.rand(5,5)\n",
    "arr3"
   ]
  },
  {
   "cell_type": "code",
   "execution_count": 6,
   "id": "1a8005a9",
   "metadata": {},
   "outputs": [
    {
     "name": "stdout",
     "output_type": "stream",
     "text": [
      "[[56 56 85 19 75]\n",
      " [35 95 29 48  0]\n",
      " [29 23 48  3 39]\n",
      " [ 8 12 34 94 79]\n",
      " [92 92 14 52 47]]\n"
     ]
    }
   ],
   "source": [
    "arr4=np.random.randint(100, size=(5,5))\n",
    "print(arr4)"
   ]
  },
  {
   "cell_type": "code",
   "execution_count": 7,
   "id": "b56a24ad",
   "metadata": {},
   "outputs": [
    {
     "name": "stdout",
     "output_type": "stream",
     "text": [
      "[[[9 9 9 9]\n",
      "  [9 9 9 9]\n",
      "  [9 9 9 9]]\n",
      "\n",
      " [[9 9 9 9]\n",
      "  [9 9 9 9]\n",
      "  [9 9 9 9]]]\n"
     ]
    }
   ],
   "source": [
    "arr5=np.full((2,3,4),9)\n",
    "print(arr5)"
   ]
  },
  {
   "cell_type": "code",
   "execution_count": 8,
   "id": "abbff8d6",
   "metadata": {},
   "outputs": [
    {
     "data": {
      "text/plain": [
       "array([ 0,  2,  4,  6,  8, 10, 12, 14, 16, 18, 20, 22, 24, 26, 28, 30, 32,\n",
       "       34, 36, 38, 40, 42, 44, 46, 48])"
      ]
     },
     "execution_count": 8,
     "metadata": {},
     "output_type": "execute_result"
    }
   ],
   "source": [
    "arr6=np.arange(0,50,2)\n",
    "arr6"
   ]
  },
  {
   "cell_type": "code",
   "execution_count": 12,
   "id": "f45cf6c4",
   "metadata": {},
   "outputs": [
    {
     "data": {
      "text/plain": [
       "array([[39, 19, 26, 23, 27, 26, 23],\n",
       "       [31, 24, 32, 28, 16, 35, 25],\n",
       "       [20, 21, 19, 22, 16, 26, 25],\n",
       "       [37, 17, 39, 23, 34, 34, 32],\n",
       "       [28, 19, 27, 17, 17, 21, 20]], dtype=int32)"
      ]
     },
     "execution_count": 12,
     "metadata": {},
     "output_type": "execute_result"
    }
   ],
   "source": [
    "# temperature qtn\n",
    "# create array to store temps for 5 days and 7 stations\n",
    "arr7=np.random.randint(15,40, size=(5,7))\n",
    "arr7"
   ]
  },
  {
   "cell_type": "code",
   "execution_count": 14,
   "id": "7dabbebe",
   "metadata": {},
   "outputs": [
    {
     "data": {
      "text/plain": [
       "array([67, 85, 33, 61, 64, 88, 56, 71, 44, 67, 79, 37, 78, 90, 61, 72, 99,\n",
       "       41, 30, 86, 82, 40, 56, 57, 65, 70, 28, 81, 89, 56], dtype=int32)"
      ]
     },
     "execution_count": 14,
     "metadata": {},
     "output_type": "execute_result"
    }
   ],
   "source": [
    "# initialize an array for 30 students starting at 25\n",
    "arr8=np.random.randint(25,100, size=(30))\n",
    "arr8"
   ]
  },
  {
   "cell_type": "code",
   "execution_count": null,
   "id": "0f251663",
   "metadata": {},
   "outputs": [],
   "source": [
    "()"
   ]
  }
 ],
 "metadata": {
  "kernelspec": {
   "display_name": "pydata_training",
   "language": "python",
   "name": "python3"
  },
  "language_info": {
   "codemirror_mode": {
    "name": "ipython",
    "version": 3
   },
   "file_extension": ".py",
   "mimetype": "text/x-python",
   "name": "python",
   "nbconvert_exporter": "python",
   "pygments_lexer": "ipython3",
   "version": "3.12.4"
  }
 },
 "nbformat": 4,
 "nbformat_minor": 5
}
